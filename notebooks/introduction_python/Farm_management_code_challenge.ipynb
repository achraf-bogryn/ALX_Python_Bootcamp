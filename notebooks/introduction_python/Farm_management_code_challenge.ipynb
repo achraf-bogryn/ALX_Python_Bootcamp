{
  "cells": [
    {
      "cell_type": "markdown",
      "id": "EjbMCThjG6xb",
      "metadata": {
        "id": "EjbMCThjG6xb"
      },
      "source": [
        "<div align=\"center\" style=\" font-size: 80%; text-align: center; margin: 0 auto\">\n",
        "<img src=\"https://raw.githubusercontent.com/Explore-AI/Pictures/master/Python-Notebook-Banners/Code_challenge.png\"  style=\"display: block; margin-left: auto; margin-right: auto;\";/>\n",
        "</div>"
      ]
    },
    {
      "cell_type": "markdown",
      "id": "f662d169",
      "metadata": {
        "id": "f662d169"
      },
      "source": [
        "# Code challenge: Farm harvest management\n"
      ]
    },
    {
      "cell_type": "markdown",
      "id": "26af890c",
      "metadata": {
        "id": "26af890c"
      },
      "source": [
        "In this code challenge, we will assist a farmer in calculating the total harvest from two fields (wheat and potatoes) and the overall expenses and profits for this season.\n",
        "\n"
      ]
    },
    {
      "cell_type": "markdown",
      "id": "2d230d14",
      "metadata": {
        "id": "2d230d14",
        "tags": []
      },
      "source": [
        "## Learning objectives\n",
        "\n",
        "In this train, we will:\n",
        "- Understand how to perform basic arithmetic operations in a Jupyter notebook.\n",
        "- Know how to assign numerical values to variables.\n",
        "- Know how to use the print() function to display our results.\n"
      ]
    },
    {
      "cell_type": "markdown",
      "id": "jUSH8FuQG6xe",
      "metadata": {
        "id": "jUSH8FuQG6xe"
      },
      "source": [
        "## Instructions\n",
        "\n",
        "- **This code challenge does not count for marks.**\n",
        "- Do not add or remove cells in this notebook.\n",
        "- Answer the questions according to the specifications provided.\n",
        "- Use the given cell in each question to see if your function matches the expected outputs."
      ]
    },
    {
      "cell_type": "markdown",
      "id": "KIOKw61LG6xf",
      "metadata": {
        "id": "KIOKw61LG6xf"
      },
      "source": [
        "## Challenge 1\n",
        "Calculate the total harvest for the farmer."
      ]
    },
    {
      "cell_type": "code",
      "execution_count": 1,
      "id": "uDowzbTpG6xf",
      "metadata": {
        "colab": {
          "base_uri": "https://localhost:8080/"
        },
        "id": "uDowzbTpG6xf",
        "outputId": "ff60dfef-0937-492e-e432-3d63188e10aa"
      },
      "outputs": [
        {
          "name": "stdout",
          "output_type": "stream",
          "text": [
            "Total harvest in kilograms: 5650\n"
          ]
        }
      ],
      "source": [
        "total_kgs_wheat_harvest = 2050\n",
        "total_kgs_potato_harvest = 3600\n",
        "\n",
        "total_kgs_harvest = total_kgs_potato_harvest + total_kgs_wheat_harvest\n",
        "print(\"Total harvest in kilograms:\", total_kgs_harvest)"
      ]
    },
    {
      "cell_type": "markdown",
      "id": "-_2sPy4aG6xf",
      "metadata": {
        "id": "-_2sPy4aG6xf"
      },
      "source": [
        "**Expected outputs:**\n",
        "```python\n",
        "Total harvest in kilograms: 5650\n",
        "```"
      ]
    },
    {
      "cell_type": "markdown",
      "id": "06pNTmj4G6xg",
      "metadata": {
        "id": "06pNTmj4G6xg"
      },
      "source": [
        "## Challenge 2\n",
        "Calculate the total expenses (in dollars) and print the result."
      ]
    },
    {
      "cell_type": "code",
      "execution_count": 2,
      "id": "S9HLWaFUG6xg",
      "metadata": {
        "colab": {
          "base_uri": "https://localhost:8080/"
        },
        "id": "S9HLWaFUG6xg",
        "outputId": "c6416143-f6b0-4a8d-81e2-804cc2075971"
      },
      "outputs": [
        {
          "name": "stdout",
          "output_type": "stream",
          "text": [
            "3720\n"
          ]
        }
      ],
      "source": [
        "seed_expense = 650\n",
        "labour_expense = 3070\n",
        "\n",
        "total_expenses_dollars = seed_expense + labour_expense\n",
        "print(total_expenses_dollars) # add your code here"
      ]
    },
    {
      "cell_type": "markdown",
      "id": "WRwDyOWyG6xg",
      "metadata": {
        "id": "WRwDyOWyG6xg"
      },
      "source": [
        "**Expected outputs:**\n",
        "```python\n",
        "Total expenses in dollars: 3720\n",
        "```"
      ]
    },
    {
      "cell_type": "markdown",
      "id": "6hPeGThGG6xh",
      "metadata": {
        "id": "6hPeGThGG6xh"
      },
      "source": [
        "## Challenge 3\n",
        "Calculate the total revenue (in dollars) and print the result."
      ]
    },
    {
      "cell_type": "code",
      "execution_count": 3,
      "id": "RuMVJKBaG6xh",
      "metadata": {
        "colab": {
          "base_uri": "https://localhost:8080/"
        },
        "id": "RuMVJKBaG6xh",
        "outputId": "68ffd102-18cf-4ecf-f755-6f317e7b12d2"
      },
      "outputs": [
        {
          "name": "stdout",
          "output_type": "stream",
          "text": [
            "9140.0\n"
          ]
        }
      ],
      "source": [
        "price_per_kg_wheat = 2\n",
        "price_per_kg_potato = 1.4\n",
        "\n",
        "total_revenue_dollars = total_kgs_wheat_harvest*price_per_kg_wheat + total_kgs_potato_harvest*price_per_kg_potato\n",
        "print(total_revenue_dollars) # add your code here"
      ]
    },
    {
      "cell_type": "markdown",
      "id": "cx7atBzsG6xh",
      "metadata": {
        "id": "cx7atBzsG6xh"
      },
      "source": [
        "**Expected outputs:**\n",
        "```python\n",
        "Total revenue in dollars: 9140\n",
        "```"
      ]
    },
    {
      "cell_type": "markdown",
      "id": "QWbSxAlAG6xh",
      "metadata": {
        "id": "QWbSxAlAG6xh"
      },
      "source": [
        "## Challenge 4\n",
        "Calculate the total profit (in dollars) and print the result."
      ]
    },
    {
      "cell_type": "code",
      "execution_count": 4,
      "id": "_jEshHC9G6xi",
      "metadata": {
        "colab": {
          "base_uri": "https://localhost:8080/"
        },
        "id": "_jEshHC9G6xi",
        "outputId": "5823a54d-22d0-44f9-f15f-a622d9dc56a6"
      },
      "outputs": [
        {
          "name": "stdout",
          "output_type": "stream",
          "text": [
            "5420.0\n"
          ]
        }
      ],
      "source": [
        "total_profit_dollars = total_revenue_dollars - total_expenses_dollars\n",
        "print(total_profit_dollars) # add your code here"
      ]
    },
    {
      "cell_type": "markdown",
      "id": "_pVnXIefG6xi",
      "metadata": {
        "id": "_pVnXIefG6xi"
      },
      "source": [
        "**Expected outputs:**\n",
        "```python\n",
        "Total profit in dollars: 5420\n",
        "```"
      ]
    },
    {
      "cell_type": "markdown",
      "id": "26fd094b-0fee-46f1-a4b8-73766813c42b",
      "metadata": {
        "id": "26fd094b-0fee-46f1-a4b8-73766813c42b",
        "tags": []
      },
      "source": [
        "#  \n",
        "\n",
        "<div align=\"center\" style=\" font-size: 80%; text-align: center; margin: 0 auto\">\n",
        "<img src=\"https://raw.githubusercontent.com/Explore-AI/Pictures/refs/heads/master/ALX_banners/ALX_Navy.png\"  style=\"width:140px\";/>\n",
        "</div>"
      ]
    }
  ],
  "metadata": {
    "colab": {
      "provenance": []
    },
    "kernelspec": {
      "display_name": "Python 3",
      "language": "python",
      "name": "python3"
    },
    "language_info": {
      "codemirror_mode": {
        "name": "ipython",
        "version": 3
      },
      "file_extension": ".py",
      "mimetype": "text/x-python",
      "name": "python",
      "nbconvert_exporter": "python",
      "pygments_lexer": "ipython3",
      "version": "3.10.0"
    }
  },
  "nbformat": 4,
  "nbformat_minor": 5
}
